{
 "cells": [
  {
   "cell_type": "code",
   "execution_count": 9,
   "metadata": {},
   "outputs": [],
   "source": [
    "import tensorflow as tf\n",
    "import numpy as np\n",
    "import math\n",
    "import cv2"
   ]
  },
  {
   "cell_type": "code",
   "execution_count": 10,
   "metadata": {},
   "outputs": [],
   "source": [
    "# from tensorflow.python.keras.models import Sequential\n",
    "from tensorflow.python.keras.layers import InputLayer, Input\n",
    "from tensorflow.python.keras.layers import Reshape, MaxPooling2D\n",
    "from tensorflow.python.keras.layers import Conv2D, Dense, Flatten\n",
    "from tensorflow.python.keras.models import Model"
   ]
  },
  {
   "cell_type": "code",
   "execution_count": 11,
   "metadata": {},
   "outputs": [
    {
     "data": {
      "text/plain": [
       "'1.4.0'"
      ]
     },
     "execution_count": 11,
     "metadata": {},
     "output_type": "execute_result"
    }
   ],
   "source": [
    "tf.__version__"
   ]
  },
  {
   "cell_type": "code",
   "execution_count": 12,
   "metadata": {
    "scrolled": true
   },
   "outputs": [
    {
     "data": {
      "text/plain": [
       "'2.0.8-tf'"
      ]
     },
     "execution_count": 12,
     "metadata": {},
     "output_type": "execute_result"
    }
   ],
   "source": [
    "tf.keras.__version__"
   ]
  },
  {
   "cell_type": "code",
   "execution_count": 13,
   "metadata": {},
   "outputs": [],
   "source": [
    "init_mat=[]\n",
    "encodeco_mat=[]"
   ]
  },
  {
   "cell_type": "code",
   "execution_count": 14,
   "metadata": {},
   "outputs": [],
   "source": [
    "# model = Sequential()"
   ]
  },
  {
   "cell_type": "code",
   "execution_count": 15,
   "metadata": {},
   "outputs": [
    {
     "ename": "NameError",
     "evalue": "name 'array' is not defined",
     "output_type": "error",
     "traceback": [
      "\u001b[0;31m---------------------------------------------------------------------------\u001b[0m",
      "\u001b[0;31mNameError\u001b[0m                                 Traceback (most recent call last)",
      "\u001b[0;32m<ipython-input-15-144e5ac05f1c>\u001b[0m in \u001b[0;36m<module>\u001b[0;34m()\u001b[0m\n\u001b[1;32m      3\u001b[0m     \u001b[0mpath_major\u001b[0m\u001b[0;34m=\u001b[0m\u001b[0mpath1\u001b[0m\u001b[0;34m+\u001b[0m\u001b[0;34m'/s'\u001b[0m\u001b[0;34m+\u001b[0m\u001b[0mstr\u001b[0m\u001b[0;34m(\u001b[0m\u001b[0mi\u001b[0m\u001b[0;34m)\u001b[0m\u001b[0;34m\u001b[0m\u001b[0m\n\u001b[1;32m      4\u001b[0m     \u001b[0;32mfor\u001b[0m \u001b[0mj\u001b[0m \u001b[0;32min\u001b[0m \u001b[0mrange\u001b[0m\u001b[0;34m(\u001b[0m\u001b[0;36m1\u001b[0m\u001b[0;34m,\u001b[0m\u001b[0;36m10\u001b[0m\u001b[0;34m)\u001b[0m\u001b[0;34m:\u001b[0m\u001b[0;34m\u001b[0m\u001b[0m\n\u001b[0;32m----> 5\u001b[0;31m         \u001b[0mimg\u001b[0m\u001b[0;34m=\u001b[0m\u001b[0marray\u001b[0m\u001b[0;34m(\u001b[0m\u001b[0mImage\u001b[0m\u001b[0;34m.\u001b[0m\u001b[0mopen\u001b[0m\u001b[0;34m(\u001b[0m\u001b[0mpath_major\u001b[0m\u001b[0;34m+\u001b[0m\u001b[0;34m\"/\"\u001b[0m\u001b[0;34m+\u001b[0m\u001b[0mstr\u001b[0m\u001b[0;34m(\u001b[0m\u001b[0mj\u001b[0m\u001b[0;34m)\u001b[0m\u001b[0;34m+\u001b[0m\u001b[0;34m\".bmp\"\u001b[0m\u001b[0;34m)\u001b[0m\u001b[0;34m)\u001b[0m\u001b[0;34m\u001b[0m\u001b[0m\n\u001b[0m\u001b[1;32m      6\u001b[0m         \u001b[0mimg\u001b[0m \u001b[0;34m=\u001b[0m \u001b[0mcv2\u001b[0m\u001b[0;34m.\u001b[0m\u001b[0mcvtColor\u001b[0m\u001b[0;34m(\u001b[0m \u001b[0mimg\u001b[0m\u001b[0;34m,\u001b[0m \u001b[0mcv2\u001b[0m\u001b[0;34m.\u001b[0m\u001b[0mCOLOR_RGB2GRAY\u001b[0m \u001b[0;34m)\u001b[0m\u001b[0;34m\u001b[0m\u001b[0m\n\u001b[1;32m      7\u001b[0m         \u001b[0mimg\u001b[0m\u001b[0;34m=\u001b[0m\u001b[0mimg\u001b[0m\u001b[0;34m.\u001b[0m\u001b[0mreshape\u001b[0m\u001b[0;34m(\u001b[0m\u001b[0;36m150\u001b[0m\u001b[0;34m,\u001b[0m\u001b[0;36m150\u001b[0m\u001b[0;34m,\u001b[0m\u001b[0;36m1\u001b[0m\u001b[0;34m)\u001b[0m\u001b[0;34m\u001b[0m\u001b[0m\n",
      "\u001b[0;31mNameError\u001b[0m: name 'array' is not defined"
     ]
    }
   ],
   "source": [
    "path1=\"\"\n",
    "for i in range(1,123):\n",
    "    path_major=path1+'/s'+str(i)\n",
    "    for j in range(1,10):\n",
    "        img=array(Image.open(path_major+\"/\"+str(j)+\".jpg\"))\n",
    "        img = cv2.cvtColor( img, cv2.COLOR_RGB2GRAY )\n",
    "        img=img.reshape(128,128,1)\n",
    "        init_mat.append(img)\n",
    "    for j in range(1,10):\n",
    "        img=array(Image.open(path_major+\"/\"+str(j)+\"_.jpg\"))\n",
    "        img = cv2.cvtColor( img, cv2.COLOR_RGB2GRAY )\n",
    "        img=img.reshape(128,128,1)\n",
    "        encodeco_mat.append(img)"
   ]
  },
  {
   "cell_type": "code",
   "execution_count": null,
   "metadata": {},
   "outputs": [],
   "source": [
    "Data,Label = shuffle(init_mat,encodeco_mat, random_state=2) "
   ]
  },
  {
   "cell_type": "code",
   "execution_count": null,
   "metadata": {},
   "outputs": [],
   "source": [
    "# Dividing the test and train data\n",
    "X_train, X_test, Y_train, Y_test = train_test_split(Data, Label, test_size=0.2, random_state=2)\n",
    "X_train = array(X_train)\n",
    "Y_train = array(Y_train)\n",
    "X_test = array(X_test)\n",
    "Y_test = array(Y_test)\n",
    "print(X_train.shape)\n",
    "print(Y_train.shape)\n",
    "print(X_test.shape)\n",
    "print(Y_test.shape)\n",
    "\n",
    "X_train = X_train.astype('float32') / 255.\n",
    "X_test = X_test.astype('float32') / 255.\n",
    "\n",
    "Y_train = Y_train.astype('float32') / 255.\n",
    "Y_test = Y_test.astype('float32') / 255."
   ]
  },
  {
   "cell_type": "code",
   "execution_count": null,
   "metadata": {},
   "outputs": [],
   "source": [
    "# Model \n",
    "inputs = Input(shape=(128,128,1))\n",
    "net = inputs"
   ]
  },
  {
   "cell_type": "code",
   "execution_count": null,
   "metadata": {},
   "outputs": [],
   "source": [
    "# First convolutional layer with ReLU-activation and max-pooling.\n",
    "net = Conv2D(kernel_size=3, strides=1, filters=16, padding='same',\n",
    "             activation='relu', name='layer_conv1')(net)\n",
    "net = MaxPooling2D(pool_size=2, strides=2)(net)\n",
    "\n",
    "# Second convolutional layer with ReLU-activation and max-pooling.\n",
    "net = Conv2D(kernel_size=3, strides=1, filters=32, padding='same',\n",
    "             activation='relu', name='layer_conv2')(net)\n",
    "net = MaxPooling2D(pool_size=2, strides=2)(net)\n",
    "\n",
    "# Third convolutional layer with ReLU-activation and max-pooling.\n",
    "net = Conv2D(kernel_size=3, strides=1, filters=64, padding='same',\n",
    "             activation='relu', name='layer_conv2')(net)\n",
    "net = MaxPooling2D(pool_size=2, strides=2)(net)\n",
    "\n",
    "\n",
    "# Fourth convolutional layer with ReLU-activation and max-pooling.\n",
    "net = Conv2D(kernel_size=3, strides=1, filters=128, padding='same',\n",
    "             activation='relu', name='layer_conv2')(net)\n",
    "net = MaxPooling2D(pool_size=2, strides=2)(net)\n",
    "\n",
    "\n",
    "# Fifth convolutional layer with ReLU-activation and max-pooling.\n",
    "net = Conv2D(kernel_size=3, strides=1, filters=256, padding='same',\n",
    "             activation='relu', name='layer_conv2')(net)\n",
    "net = MaxPooling2D(pool_size=2, strides=2)(net)\n",
    "\n",
    "# Bottleneck achived -----------------------------------------------------------------------------------"
   ]
  },
  {
   "cell_type": "code",
   "execution_count": null,
   "metadata": {},
   "outputs": [],
   "source": [
    "# Sixth Convolutional layer with ReLU-activation and upsampling\n",
    "net = UpSampling2D(size=(2, 2))(net)\n",
    "net = Conv2D(kernel_size=3, strides=1, filters=128, padding='same',\n",
    "             activation='relu', name='layer_conv2')(net)\n",
    "\n",
    "# Seventh Convolutional layer with ReLU-activation and upsampling\n",
    "net = UpSampling2D(size=(2, 2))(net)\n",
    "net = Conv2D(kernel_size=3, strides=1, filters=64, padding='same',\n",
    "             activation='relu', name='layer_conv2')(net)\n",
    "\n",
    "# Eighth Convolutional layer with ReLU-activation and upsampling\n",
    "net = UpSampling2D(size=(2, 2))(net)\n",
    "net = Conv2D(kernel_size=3, strides=1, filters=32, padding='same',\n",
    "             activation='relu', name='layer_conv2')(net)\n",
    "\n",
    "# Nineth Convolutional layer with ReLU-activation and upsampling\n",
    "net = UpSampling2D(size=(2, 2))(net)\n",
    "net = Conv2D(kernel_size=3, strides=1, filters=16, padding='same',\n",
    "             activation='relu', name='layer_conv2')(net)"
   ]
  },
  {
   "cell_type": "code",
   "execution_count": null,
   "metadata": {},
   "outputs": [],
   "source": [
    "saveDir = 'results12/'\n",
    "########### train the encoder decoder network\n",
    "#autoencoder=combined_model()\n",
    "#autoencoder.load_weights(\"combined_model.h5\")\n",
    "for epoch in range(1,100):\n",
    "    \n",
    "    train_X,train_Y=shuffle(x_train,y_train)\n",
    "    print (\"Epoch is: %d\\n\" % epoch)\n",
    "    batch_size=64\n",
    "    print (\"Number of batches: %d\\n\" % int(len(train_X)/batch_size))\n",
    "    num_batches=int(len(train_X)/batch_size)\n",
    "    for batch in range(num_batches):\n",
    "        batch_train_X=train_X[batch*batch_size:min((batch+1)*batch_size,len(train_X))]\n",
    "        batch_train_Y=train_Y[batch*batch_size:min((batch+1)*batch_size,len(train_Y))]\n",
    "        loss=autoencoder.train_on_batch(batch_train_X,batch_train_Y)\n",
    "        print ('epoch_num: %d batch_num: %d loss: %f\\n' % (epoch,batch,loss))\n",
    "    \n",
    "    autoencoder.save_weights(\"MODEL.h5\")\n",
    "    if(epoch%5==0):\n",
    "        x_test,y_test=shuffle(x_test,y_test)\n",
    "        decoded_imgs=autoencoder.predict(x_test[:2])\n",
    "        temp = np.zeros([128, 128*3,3])\n",
    "        temp[:, :128,:1] = x_test[0,:,:,:1]\n",
    "        temp[:, 128:128*2,:1] = y_test[0,:,:,:1]\n",
    "        temp[:, 128*2:,:1] = decoded_imgs[0,:,:,:1]\n",
    "        temp[:,:,1]=temp[:,:,0]\n",
    "        temp[:,:,2]=temp[:,:,0]\n",
    "        temp = temp*255\n",
    "        scipy.misc.imsave(saveDir + str(epoch) + \".jpg\", temp)"
   ]
  },
  {
   "cell_type": "code",
   "execution_count": null,
   "metadata": {},
   "outputs": [],
   "source": [
    "outputs = net\n",
    "model_final = Model(inputs=inputs, outputs=outputs)"
   ]
  },
  {
   "cell_type": "code",
   "execution_count": null,
   "metadata": {},
   "outputs": [],
   "source": [
    "model_final.compile(optimizer='rmsprop',\n",
    "               loss='categorical_crossentropy',\n",
    "               metrics=['accuracy'])"
   ]
  },
  {
   "cell_type": "code",
   "execution_count": null,
   "metadata": {},
   "outputs": [],
   "source": [
    "model2.fit(x=data.train.images,\n",
    "           y=data.train.labels,\n",
    "           epochs=10, batch_size=128)"
   ]
  },
  {
   "cell_type": "code",
   "execution_count": null,
   "metadata": {},
   "outputs": [],
   "source": [
    "result = model2.evaluate(x=data.test.images,\n",
    "                         y=data.test.labels)"
   ]
  },
  {
   "cell_type": "code",
   "execution_count": null,
   "metadata": {},
   "outputs": [],
   "source": [
    "for name, value in zip(model.metrics_names, result):\n",
    "    print(name, value)"
   ]
  }
 ],
 "metadata": {
  "kernelspec": {
   "display_name": "Python 3",
   "language": "python",
   "name": "python3"
  },
  "language_info": {
   "codemirror_mode": {
    "name": "ipython",
    "version": 3
   },
   "file_extension": ".py",
   "mimetype": "text/x-python",
   "name": "python",
   "nbconvert_exporter": "python",
   "pygments_lexer": "ipython3",
   "version": "3.6.3"
  }
 },
 "nbformat": 4,
 "nbformat_minor": 2
}
