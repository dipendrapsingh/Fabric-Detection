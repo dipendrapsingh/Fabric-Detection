{
 "cells": [
  {
   "cell_type": "code",
   "execution_count": null,
   "metadata": {},
   "outputs": [],
   "source": [
    "from keras.layers import Input, Dense\n",
    "from keras.layers.core import Reshape\n",
    "from keras.models import Model\n",
    "from keras.callbacks import ModelCheckpoint\n",
    "from keras.layers.convolutional import MaxPooling2D,UpSampling2D,Conv2DTranspose\n",
    "from keras.layers.convolutional import Convolution2D as Conv2D\n",
    "from keras.layers.normalization import BatchNormalization\n",
    "from keras.layers import merge\n",
    "from keras.optimizers import Adadelta, RMSprop"
   ]
  },
  {
   "cell_type": "code",
   "execution_count": null,
   "metadata": {},
   "outputs": [],
   "source": [
    "import os\n",
    "import os.path\n",
    "import numpy as np\n",
    "from PIL import Image\n",
    "from numpy import * \n",
    "from sklearn.utils import shuffle\n",
    "from sklearn.cross_validation import train_test_split\n",
    "import scipy.misc\n",
    "import cv2"
   ]
  },
  {
   "cell_type": "code",
   "execution_count": null,
   "metadata": {},
   "outputs": [],
   "source": [
    "def model :\n",
    "    fab_image = Input(shape = (150,150,3))\n",
    "    conv1 = Conv2D(16, (3, 3), activation='relu', padding='same')(input_img)\n",
    "    conv1 = BatchNormalization()(conv1)\n",
    "    conv1 = Conv2D(16, (3, 3), activation='relu', padding='same')(conv1)\n",
    "    conv1 = BatchNormalization()(conv1)\n",
    "    pool1 = MaxPooling2D(pool_size=(2, 2))(conv1)\n",
    "    #Next Max_Pool\n",
    "    conv2 = Conv2D(32, (3, 3), activation='relu', padding='same')(input_img)\n",
    "    conv2 = BatchNormalization()(conv1)\n",
    "    conv2 = Conv2D(16, (3, 3), activation='relu', padding='same')(conv1)\n",
    "    conv2 = BatchNormalization()(conv1)\n",
    "    pool2 = MaxPooling2D(pool_size=(2, 2))(conv1)"
   ]
  }
 ],
 "metadata": {
  "kernelspec": {
   "display_name": "Python 3",
   "language": "python",
   "name": "python3"
  },
  "language_info": {
   "codemirror_mode": {
    "name": "ipython",
    "version": 3
   },
   "file_extension": ".py",
   "mimetype": "text/x-python",
   "name": "python",
   "nbconvert_exporter": "python",
   "pygments_lexer": "ipython3",
   "version": "3.6.3"
  }
 },
 "nbformat": 4,
 "nbformat_minor": 2
}
